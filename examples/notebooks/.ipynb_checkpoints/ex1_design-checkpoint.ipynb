{
 "cells": [
  {
   "cell_type": "code",
   "execution_count": 1,
   "metadata": {},
   "outputs": [
    {
     "data": {
      "text/html": [
       "<style>.my_table table {\n",
       "    border: 1px solid #ddd;\n",
       "}\n",
       "\n",
       ".my_table th, .my_table td {\n",
       "    padding: 8px;\n",
       "    border: 1px solid #ddd;\n",
       "    font-size: 1.25em;\n",
       "}\n",
       "\n",
       ".my_table td {\n",
       "    text-align: left;\n",
       "}\n",
       "\n",
       ".my_table th {\n",
       "    text-align: center;\n",
       "}\n",
       "\n",
       "\n",
       "</style><p>Loaded <code>my_styles.css</code></p>"
      ],
      "text/plain": [
       "<IPython.core.display.HTML object>"
      ]
     },
     "execution_count": 1,
     "metadata": {},
     "output_type": "execute_result"
    }
   ],
   "source": [
    "# import some custom auxiliary functions to display results in Jupyter notebook\n",
    "import jupyter_addons as ja\n",
    "\n",
    "ja.set_css()"
   ]
  },
  {
   "cell_type": "markdown",
   "metadata": {},
   "source": [
    "# Network Design with PypeFlow API "
   ]
  },
  {
   "cell_type": "markdown",
   "metadata": {},
   "source": [
    "In this notebook the main riser of a drinking water installation in an apartment building will be sized. A scheme of the riser can be looked at [here](../resources/ex2_scheme.pdf). On this scheme the peak design flow rates in the pipe sections that constitute the riser are indicated. These flow rates were determined according to the norm DIN 1988-300:2012.<br>\n",
    "<br>\n",
    "Sizing the riser means that the diameters of the pipe sections in the riser need to be determined. The first step to take towards a solution is to find the pressure drop that remains available for flow friction in the riser."
   ]
  },
  {
   "cell_type": "markdown",
   "metadata": {},
   "source": [
    "## 1. Determining the Available Pressure Loss for Friction"
   ]
  },
  {
   "cell_type": "markdown",
   "metadata": {},
   "source": [
    "Firstly, it must be known what minimal pressure is required at the farthest draw-off point of the drinking water installation. Only the riser is considered here. The design goal is to guarantee a feed pressure of at least 3 bar at the highest point of the riser, as indicated on the [scheme](../resources/ex2_scheme.pdf).<br>\n",
    "<br>\n",
    "Secondly, it must be known what minimal feed pressure could be expected at the entrance of the drinking water installation. A feed pressure of 6 bar will be assumed here, possibly established with the aid of a booster pump.<br>\n",
    "<br>\n",
    "The difference between the generated feed pressure at the entrance of the installation (i.e. the exit of the booster pump) and the pressure demanded at the highest point of the riser is the amount of pressure that will be available to compensate for the pressure losses that will occur in the riser. From this amount the pressure losses caused by appliances (e.g. a water heater) and any check valves, which can already be determined, should be subtracted. Also the known elevation head loss that must be overcomed to get the water to the highest point of the riser can already be subtracted. Finally, pressure losses caused by fittings, which diameters at this point are still unknown, are estimated as a percentage between 40 to 60 % of the remaining amount of pressure and these are also subtracted from this remaining amount of pressure. What is left, remains available to compensate for the friction loss in the riser.<br>\n",
    "<br>\n",
    "We could all express this mathematically using the energy equation, which is stated as:\n",
    "\n",
    "$$\n",
    "\\left( {{p_1} + \\Delta {p_p}} \\right) + \\rho \\frac{{v_1^2}}{2} + \\rho g{z_1} - \\Delta {p_{app}} - \\Delta {p_{cv}} - \\Delta {p_{fr}} - \\Delta {p_{fi}} = {p_2} + \\rho \\frac{{v_2^2}}{2} + \\rho g{z_2}\n",
    "$$\n",
    "\n",
    "where:\n",
    "- $p_1$ = the feed pressure from the public distribution network\n",
    "- $\\Delta{p_P}$ = the amount of pressure added by the booster pump\n",
    "- $\\rho \\frac{{v_1^2}}{2}$ = the velocity pressure at the exit of the booster pump\n",
    "- $ \\rho g{z_1}$ = the elevation pressure at the exit of the booster pump\n",
    "- $\\Delta {p_{app}}$ = pressure loss across appliances\n",
    "- $\\Delta {p_{cv}}$ = pressure loss across check valves\n",
    "- $\\Delta {p_{fr}}$ = pressure loss due to friction\n",
    "- $\\Delta {p_{fi}}$ = pressure loss across fittings\n",
    "- ${p_2}$ = static pressure at the highest point of the riser\n",
    "- $\\rho \\frac{{v_2^2}}{2}$ = velocity pressure at the highest of the riser\n",
    "- $\\rho g{z_2}$ = the elevation pressure at the highest point of the riser\n",
    "\n",
    "From this equation, and when velocity pressures are ignored, the available friction loss can be determined:\n",
    "\n",
    "$$\n",
    "\\Delta {p_{fr}} \\approx \\left( {{p_1} + \\Delta {p_p} - {p_2}} \\right) - \\rho g\\left( {{z_2} - {z_1}} \\right) - \\Delta {p_{app}} - \\Delta {p_{cv}} - \\Delta {p_{fi}}\n",
    "$$\n",
    "\n",
    "For solving this equation, we can use the utility function `calc_specific_friction_loss(**kwargs)` that resides in the module `pypeflow.utils.misc`. The arguments that must be passed to this function are explained in the PypeFlow API documentation."
   ]
  },
  {
   "cell_type": "code",
   "execution_count": 2,
   "metadata": {},
   "outputs": [
    {
     "data": {
      "text/html": [
       "Total available friction loss across the riser = <b>28598.003</b> Pa"
      ],
      "text/plain": [
       "<IPython.core.display.HTML object>"
      ]
     },
     "metadata": {},
     "output_type": "display_data"
    },
    {
     "data": {
      "text/html": [
       "Available friction loss per metre = <b>803.315</b> Pa/m"
      ],
      "text/plain": [
       "<IPython.core.display.HTML object>"
      ]
     },
     "metadata": {},
     "output_type": "display_data"
    }
   ],
   "source": [
    "import quantities as qty\n",
    "from pypeflow.utils.misc import calc_specific_friction_loss\n",
    "\n",
    "kwargs = {\n",
    "    # length of the riser (see piping scheme)\n",
    "    'path_length': qty.Length(23.3 + 12.3, 'm').get('m'),\n",
    "    \n",
    "    # feed pressure (discharge pressure) at booster pump exit\n",
    "    'p_supply_min': qty.Pressure(6.0, 'bar').get('Pa'),\n",
    "    \n",
    "    # required supply pressure at the top of the riser\n",
    "    'p_draw_off_req': qty.Pressure(3.0, 'bar').get('Pa'),\n",
    "    \n",
    "    # riser height (see piping scheme)\n",
    "    'height': qty.Length(23.3, 'm').get('m'),\n",
    "    \n",
    "    # pressure loss across appliances\n",
    "    'dp_appliance': 0.0,\n",
    "    \n",
    "    # pressure loss across check valves\n",
    "    'dp_check_valve': 0.0,\n",
    "    \n",
    "    # pressure loss across fittings as a percentage of total pressure loss\n",
    "    'dp_fittings_per': 60.0\n",
    "}\n",
    "\n",
    "dp_fr_spec, dp_fr_tot = calc_specific_friction_loss(**kwargs)\n",
    "\n",
    "ja.display_item(f'Total available friction loss across the riser = <b>{dp_fr_tot(\"Pa\"):.3f}</b> Pa')\n",
    "ja.display_item(f'Available friction loss per metre = <b>{dp_fr_spec(\"Pa\"):.3f}</b> Pa/m')"
   ]
  },
  {
   "cell_type": "markdown",
   "metadata": {},
   "source": [
    "The question could be asked what friction loss would still remain available if the feed pressure at the exit of the booster pump would drop to 5,5 bar."
   ]
  },
  {
   "cell_type": "code",
   "execution_count": 3,
   "metadata": {},
   "outputs": [
    {
     "data": {
      "text/html": [
       "Total available friction loss across the riser = <b>8598.003</b> Pa"
      ],
      "text/plain": [
       "<IPython.core.display.HTML object>"
      ]
     },
     "metadata": {},
     "output_type": "display_data"
    },
    {
     "data": {
      "text/html": [
       "Available friction loss per metre = <b>241.517</b> Pa/m"
      ],
      "text/plain": [
       "<IPython.core.display.HTML object>"
      ]
     },
     "metadata": {},
     "output_type": "display_data"
    }
   ],
   "source": [
    "kwargs['p_supply_min'] = qty.Pressure(5.5, 'bar').get('Pa')\n",
    "\n",
    "dp_fr_spec, dp_fr_tot = calc_specific_friction_loss(**kwargs)\n",
    "\n",
    "ja.display_item(f'Total available friction loss across the riser = <b>{dp_fr_tot(\"Pa\"):.3f}</b> Pa')\n",
    "ja.display_item(f'Available friction loss per metre = <b>{dp_fr_spec(\"Pa\"):.3f}</b> Pa/m')"
   ]
  },
  {
   "cell_type": "markdown",
   "metadata": {},
   "source": [
    "We can see that the available friction loss drops relative sharply when feed pressure is lowered. We will determine the diameters of the pipe sections in the riser using an available friction loss per metre of 400 Pa/m."
   ]
  },
  {
   "cell_type": "markdown",
   "metadata": {},
   "source": [
    "## 2. Calculating the Pipe Diameters of the Riser"
   ]
  },
  {
   "cell_type": "markdown",
   "metadata": {},
   "source": [
    "The pipe network configuration of the riser has to be entered in a csv-file. Make sure that the decimal separator in the csv-file is represented by a point and certainly not by a comma. Using Pandas, we can open the file here to have look at it:"
   ]
  },
  {
   "cell_type": "code",
   "execution_count": 4,
   "metadata": {},
   "outputs": [
    {
     "data": {
      "text/html": [
       "<div class=\"my_table\"><table border=\"1\" class=\"dataframe\">\n",
       "  <thead>\n",
       "    <tr style=\"text-align: right;\">\n",
       "      <th></th>\n",
       "      <th>section_id</th>\n",
       "      <th>start_node_id</th>\n",
       "      <th>start_node_height</th>\n",
       "      <th>end_node_id</th>\n",
       "      <th>end_node_height</th>\n",
       "      <th>length</th>\n",
       "      <th>diameter_nom</th>\n",
       "      <th>flow_rate</th>\n",
       "      <th>pressure_drop</th>\n",
       "    </tr>\n",
       "  </thead>\n",
       "  <tbody>\n",
       "    <tr>\n",
       "      <th>0</th>\n",
       "      <td>s12</td>\n",
       "      <td>n1</td>\n",
       "      <td>0.0</td>\n",
       "      <td>n2</td>\n",
       "      <td>4.4</td>\n",
       "      <td>16.7</td>\n",
       "      <td>NaN</td>\n",
       "      <td>1.696</td>\n",
       "      <td>0.067</td>\n",
       "    </tr>\n",
       "    <tr>\n",
       "      <th>1</th>\n",
       "      <td>s23</td>\n",
       "      <td>n2</td>\n",
       "      <td>4.4</td>\n",
       "      <td>n3</td>\n",
       "      <td>7.1</td>\n",
       "      <td>2.7</td>\n",
       "      <td>NaN</td>\n",
       "      <td>1.625</td>\n",
       "      <td>0.011</td>\n",
       "    </tr>\n",
       "    <tr>\n",
       "      <th>2</th>\n",
       "      <td>s34</td>\n",
       "      <td>n3</td>\n",
       "      <td>7.1</td>\n",
       "      <td>n4</td>\n",
       "      <td>9.8</td>\n",
       "      <td>2.7</td>\n",
       "      <td>NaN</td>\n",
       "      <td>1.544</td>\n",
       "      <td>0.011</td>\n",
       "    </tr>\n",
       "    <tr>\n",
       "      <th>3</th>\n",
       "      <td>s45</td>\n",
       "      <td>n4</td>\n",
       "      <td>9.8</td>\n",
       "      <td>n5</td>\n",
       "      <td>12.5</td>\n",
       "      <td>2.7</td>\n",
       "      <td>NaN</td>\n",
       "      <td>1.451</td>\n",
       "      <td>0.011</td>\n",
       "    </tr>\n",
       "    <tr>\n",
       "      <th>4</th>\n",
       "      <td>s56</td>\n",
       "      <td>n5</td>\n",
       "      <td>12.5</td>\n",
       "      <td>n6</td>\n",
       "      <td>15.2</td>\n",
       "      <td>2.7</td>\n",
       "      <td>NaN</td>\n",
       "      <td>1.339</td>\n",
       "      <td>0.011</td>\n",
       "    </tr>\n",
       "    <tr>\n",
       "      <th>5</th>\n",
       "      <td>s67</td>\n",
       "      <td>n6</td>\n",
       "      <td>15.2</td>\n",
       "      <td>n7</td>\n",
       "      <td>17.9</td>\n",
       "      <td>2.7</td>\n",
       "      <td>NaN</td>\n",
       "      <td>1.196</td>\n",
       "      <td>0.011</td>\n",
       "    </tr>\n",
       "    <tr>\n",
       "      <th>6</th>\n",
       "      <td>s78</td>\n",
       "      <td>n7</td>\n",
       "      <td>17.9</td>\n",
       "      <td>n8</td>\n",
       "      <td>20.6</td>\n",
       "      <td>2.7</td>\n",
       "      <td>NaN</td>\n",
       "      <td>0.996</td>\n",
       "      <td>0.011</td>\n",
       "    </tr>\n",
       "    <tr>\n",
       "      <th>7</th>\n",
       "      <td>s89</td>\n",
       "      <td>n8</td>\n",
       "      <td>20.6</td>\n",
       "      <td>n9</td>\n",
       "      <td>23.3</td>\n",
       "      <td>2.7</td>\n",
       "      <td>NaN</td>\n",
       "      <td>0.556</td>\n",
       "      <td>0.011</td>\n",
       "    </tr>\n",
       "    <tr>\n",
       "      <th>8</th>\n",
       "      <td>s90</td>\n",
       "      <td>n9</td>\n",
       "      <td>23.3</td>\n",
       "      <td>n0</td>\n",
       "      <td>0.0</td>\n",
       "      <td>NaN</td>\n",
       "      <td>NaN</td>\n",
       "      <td>NaN</td>\n",
       "      <td>NaN</td>\n",
       "    </tr>\n",
       "    <tr>\n",
       "      <th>9</th>\n",
       "      <td>s80</td>\n",
       "      <td>n8</td>\n",
       "      <td>20.6</td>\n",
       "      <td>n0</td>\n",
       "      <td>0.0</td>\n",
       "      <td>NaN</td>\n",
       "      <td>NaN</td>\n",
       "      <td>NaN</td>\n",
       "      <td>NaN</td>\n",
       "    </tr>\n",
       "    <tr>\n",
       "      <th>10</th>\n",
       "      <td>s70</td>\n",
       "      <td>n7</td>\n",
       "      <td>17.9</td>\n",
       "      <td>n0</td>\n",
       "      <td>0.0</td>\n",
       "      <td>NaN</td>\n",
       "      <td>NaN</td>\n",
       "      <td>NaN</td>\n",
       "      <td>NaN</td>\n",
       "    </tr>\n",
       "    <tr>\n",
       "      <th>11</th>\n",
       "      <td>s60</td>\n",
       "      <td>n6</td>\n",
       "      <td>15.2</td>\n",
       "      <td>n0</td>\n",
       "      <td>0.0</td>\n",
       "      <td>NaN</td>\n",
       "      <td>NaN</td>\n",
       "      <td>NaN</td>\n",
       "      <td>NaN</td>\n",
       "    </tr>\n",
       "    <tr>\n",
       "      <th>12</th>\n",
       "      <td>s50</td>\n",
       "      <td>n5</td>\n",
       "      <td>12.5</td>\n",
       "      <td>n0</td>\n",
       "      <td>0.0</td>\n",
       "      <td>NaN</td>\n",
       "      <td>NaN</td>\n",
       "      <td>NaN</td>\n",
       "      <td>NaN</td>\n",
       "    </tr>\n",
       "    <tr>\n",
       "      <th>13</th>\n",
       "      <td>s40</td>\n",
       "      <td>n4</td>\n",
       "      <td>9.8</td>\n",
       "      <td>n0</td>\n",
       "      <td>0.0</td>\n",
       "      <td>NaN</td>\n",
       "      <td>NaN</td>\n",
       "      <td>NaN</td>\n",
       "      <td>NaN</td>\n",
       "    </tr>\n",
       "    <tr>\n",
       "      <th>14</th>\n",
       "      <td>s30</td>\n",
       "      <td>n3</td>\n",
       "      <td>7.1</td>\n",
       "      <td>n0</td>\n",
       "      <td>0.0</td>\n",
       "      <td>NaN</td>\n",
       "      <td>NaN</td>\n",
       "      <td>NaN</td>\n",
       "      <td>NaN</td>\n",
       "    </tr>\n",
       "    <tr>\n",
       "      <th>15</th>\n",
       "      <td>s20</td>\n",
       "      <td>n2</td>\n",
       "      <td>4.4</td>\n",
       "      <td>n0</td>\n",
       "      <td>0.0</td>\n",
       "      <td>NaN</td>\n",
       "      <td>NaN</td>\n",
       "      <td>NaN</td>\n",
       "      <td>NaN</td>\n",
       "    </tr>\n",
       "  </tbody>\n",
       "</table></div>"
      ],
      "text/plain": [
       "<IPython.core.display.HTML object>"
      ]
     },
     "metadata": {},
     "output_type": "display_data"
    }
   ],
   "source": [
    "import pandas as pd\n",
    "\n",
    "nw_cfg = pd.read_csv('../projects/config1_diameters.csv')\n",
    "ja.display_table(nw_cfg)"
   ]
  },
  {
   "cell_type": "markdown",
   "metadata": {},
   "source": [
    "Refer to the [scheme](../resources/ex2_scheme.pdf) to understand how the network configuration is entered in the csv-file. The node ids are indicated on the scheme. The node heights can also be read off the scheme. Fields that were left empty in the csv-file, are filled in by Pandas with `NaN` (Not a Number).<br>\n",
    "<br>\n",
    "One can see that sections were added to the csv-file that are not present in the scheme of the riser. These so called pseudo sections connect the draw-off points of the riser at floor level to a common reference node `n0` at atmospheric pressure which is the end node of the network. The node `n1` is the entrance point of the riser and therefore the start node of the network. Adding the node `n0` to the network configuration allows PypeFlow to find all the flow paths between the start and end node of the network.<br>\n",
    "<br>\n",
    "The column `diameter_nom` is left empty. The design flow rate in each pipe section of the riser is entered in the column `flow_rate`. In the column `pressure_drop` the available friction loss in each pipe section of the riser is entered, calculated by multiplying the available friction loss per metre by the length of each pipe section.<br>\n",
    "<br>\n",
    "Now, this network configuration file can be handed over to PypeFlow's `Designer` who will calculate the diameters of the pipe sections."
   ]
  },
  {
   "cell_type": "markdown",
   "metadata": {},
   "source": [
    "**(1)** First, we need to tell the `Designer` which measuring units are used in the configuration file and which will also be used to express the results:"
   ]
  },
  {
   "cell_type": "code",
   "execution_count": 5,
   "metadata": {},
   "outputs": [],
   "source": [
    "from pypeflow.design import Designer\n",
    "\n",
    "Designer.set_units({\n",
    "    'length': 'm',\n",
    "    'diameter': 'mm',\n",
    "    'flow_rate': 'L/s',\n",
    "    'pressure': 'bar',\n",
    "    'velocity': 'm/s'\n",
    "})"
   ]
  },
  {
   "cell_type": "markdown",
   "metadata": {},
   "source": [
    "**(2)** Next, we ask `Designer` to create a `Network` object, which we initialize with some general properties of the network, such as which fluid runs through the network and what pipe schedule the pipe sections are made of:"
   ]
  },
  {
   "cell_type": "code",
   "execution_count": 6,
   "metadata": {},
   "outputs": [],
   "source": [
    "Designer.create_network(\n",
    "    start_node_id='n1',\n",
    "    end_node_id='n0',\n",
    "    fluid='water',\n",
    "    fluid_temperature=10.0,\n",
    "    pipe_schedule='pipe_schedule_40'\n",
    ")"
   ]
  },
  {
   "cell_type": "markdown",
   "metadata": {},
   "source": [
    "At this moment PypeFlow knows about two fluids: `'water'` or `'air'`. It supports only two pipe schedules at this moment: `'pipe_schedule_40'` and `'geberit_mapress_steel'`. There is an intention to add in the future a user interface to allow users to add (incompressible) fluids and pipe schedules on their own."
   ]
  },
  {
   "cell_type": "markdown",
   "metadata": {},
   "source": [
    "**(3)** Finally, we can hand over the configuration file to `Designer`, which will put it to work:"
   ]
  },
  {
   "cell_type": "code",
   "execution_count": 7,
   "metadata": {},
   "outputs": [],
   "source": [
    "Designer.configure_network('../projects/config1_diameters.csv')"
   ]
  },
  {
   "cell_type": "markdown",
   "metadata": {},
   "source": [
    "**(4)** Let's look at the results:"
   ]
  },
  {
   "cell_type": "code",
   "execution_count": 10,
   "metadata": {},
   "outputs": [
    {
     "data": {
      "text/html": [
       "<div class=\"my_table\"><table border=\"1\" class=\"dataframe\">\n",
       "  <thead>\n",
       "    <tr style=\"text-align: right;\">\n",
       "      <th></th>\n",
       "      <th>section_id</th>\n",
       "      <th>L [m]</th>\n",
       "      <th>Di,th [mm]</th>\n",
       "      <th>Di [mm]</th>\n",
       "      <th>DN [mm]</th>\n",
       "      <th>V [L/s]</th>\n",
       "      <th>v [m/s]</th>\n",
       "      <th>dp,dyn [bar]</th>\n",
       "    </tr>\n",
       "  </thead>\n",
       "  <tbody>\n",
       "    <tr>\n",
       "      <th>0</th>\n",
       "      <td>s12</td>\n",
       "      <td>16.7</td>\n",
       "      <td>42.829</td>\n",
       "      <td>40.9</td>\n",
       "      <td>40.0</td>\n",
       "      <td>1.696</td>\n",
       "      <td>1.291</td>\n",
       "      <td>0.067</td>\n",
       "    </tr>\n",
       "    <tr>\n",
       "      <th>1</th>\n",
       "      <td>s23</td>\n",
       "      <td>2.7</td>\n",
       "      <td>42.021</td>\n",
       "      <td>40.9</td>\n",
       "      <td>40.0</td>\n",
       "      <td>1.625</td>\n",
       "      <td>1.237</td>\n",
       "      <td>0.011</td>\n",
       "    </tr>\n",
       "    <tr>\n",
       "      <th>2</th>\n",
       "      <td>s34</td>\n",
       "      <td>2.7</td>\n",
       "      <td>41.227</td>\n",
       "      <td>40.9</td>\n",
       "      <td>40.0</td>\n",
       "      <td>1.544</td>\n",
       "      <td>1.175</td>\n",
       "      <td>0.011</td>\n",
       "    </tr>\n",
       "    <tr>\n",
       "      <th>3</th>\n",
       "      <td>s45</td>\n",
       "      <td>2.7</td>\n",
       "      <td>40.282</td>\n",
       "      <td>40.9</td>\n",
       "      <td>40.0</td>\n",
       "      <td>1.451</td>\n",
       "      <td>1.104</td>\n",
       "      <td>0.011</td>\n",
       "    </tr>\n",
       "    <tr>\n",
       "      <th>4</th>\n",
       "      <td>s56</td>\n",
       "      <td>2.7</td>\n",
       "      <td>39.094</td>\n",
       "      <td>40.9</td>\n",
       "      <td>40.0</td>\n",
       "      <td>1.339</td>\n",
       "      <td>1.019</td>\n",
       "      <td>0.011</td>\n",
       "    </tr>\n",
       "    <tr>\n",
       "      <th>5</th>\n",
       "      <td>s67</td>\n",
       "      <td>2.7</td>\n",
       "      <td>37.483</td>\n",
       "      <td>35.1</td>\n",
       "      <td>32.0</td>\n",
       "      <td>1.196</td>\n",
       "      <td>1.236</td>\n",
       "      <td>0.011</td>\n",
       "    </tr>\n",
       "    <tr>\n",
       "      <th>6</th>\n",
       "      <td>s78</td>\n",
       "      <td>2.7</td>\n",
       "      <td>35.014</td>\n",
       "      <td>35.1</td>\n",
       "      <td>32.0</td>\n",
       "      <td>0.996</td>\n",
       "      <td>1.029</td>\n",
       "      <td>0.011</td>\n",
       "    </tr>\n",
       "    <tr>\n",
       "      <th>7</th>\n",
       "      <td>s89</td>\n",
       "      <td>2.7</td>\n",
       "      <td>28.200</td>\n",
       "      <td>26.6</td>\n",
       "      <td>25.0</td>\n",
       "      <td>0.556</td>\n",
       "      <td>1.001</td>\n",
       "      <td>0.011</td>\n",
       "    </tr>\n",
       "    <tr>\n",
       "      <th>8</th>\n",
       "      <td>s90</td>\n",
       "      <td>NaN</td>\n",
       "      <td>NaN</td>\n",
       "      <td>NaN</td>\n",
       "      <td>NaN</td>\n",
       "      <td>NaN</td>\n",
       "      <td>NaN</td>\n",
       "      <td>NaN</td>\n",
       "    </tr>\n",
       "    <tr>\n",
       "      <th>9</th>\n",
       "      <td>s80</td>\n",
       "      <td>NaN</td>\n",
       "      <td>NaN</td>\n",
       "      <td>NaN</td>\n",
       "      <td>NaN</td>\n",
       "      <td>NaN</td>\n",
       "      <td>NaN</td>\n",
       "      <td>NaN</td>\n",
       "    </tr>\n",
       "    <tr>\n",
       "      <th>10</th>\n",
       "      <td>s70</td>\n",
       "      <td>NaN</td>\n",
       "      <td>NaN</td>\n",
       "      <td>NaN</td>\n",
       "      <td>NaN</td>\n",
       "      <td>NaN</td>\n",
       "      <td>NaN</td>\n",
       "      <td>NaN</td>\n",
       "    </tr>\n",
       "    <tr>\n",
       "      <th>11</th>\n",
       "      <td>s60</td>\n",
       "      <td>NaN</td>\n",
       "      <td>NaN</td>\n",
       "      <td>NaN</td>\n",
       "      <td>NaN</td>\n",
       "      <td>NaN</td>\n",
       "      <td>NaN</td>\n",
       "      <td>NaN</td>\n",
       "    </tr>\n",
       "    <tr>\n",
       "      <th>12</th>\n",
       "      <td>s50</td>\n",
       "      <td>NaN</td>\n",
       "      <td>NaN</td>\n",
       "      <td>NaN</td>\n",
       "      <td>NaN</td>\n",
       "      <td>NaN</td>\n",
       "      <td>NaN</td>\n",
       "      <td>NaN</td>\n",
       "    </tr>\n",
       "    <tr>\n",
       "      <th>13</th>\n",
       "      <td>s40</td>\n",
       "      <td>NaN</td>\n",
       "      <td>NaN</td>\n",
       "      <td>NaN</td>\n",
       "      <td>NaN</td>\n",
       "      <td>NaN</td>\n",
       "      <td>NaN</td>\n",
       "      <td>NaN</td>\n",
       "    </tr>\n",
       "    <tr>\n",
       "      <th>14</th>\n",
       "      <td>s30</td>\n",
       "      <td>NaN</td>\n",
       "      <td>NaN</td>\n",
       "      <td>NaN</td>\n",
       "      <td>NaN</td>\n",
       "      <td>NaN</td>\n",
       "      <td>NaN</td>\n",
       "      <td>NaN</td>\n",
       "    </tr>\n",
       "    <tr>\n",
       "      <th>15</th>\n",
       "      <td>s20</td>\n",
       "      <td>NaN</td>\n",
       "      <td>NaN</td>\n",
       "      <td>NaN</td>\n",
       "      <td>NaN</td>\n",
       "      <td>NaN</td>\n",
       "      <td>NaN</td>\n",
       "      <td>NaN</td>\n",
       "    </tr>\n",
       "  </tbody>\n",
       "</table></div>"
      ],
      "text/plain": [
       "<IPython.core.display.HTML object>"
      ]
     },
     "metadata": {},
     "output_type": "display_data"
    }
   ],
   "source": [
    "results = Designer.get_sections()\n",
    "ja.display_table(results)"
   ]
  },
  {
   "cell_type": "markdown",
   "metadata": {},
   "source": [
    "- In column `Di,th` the calculated or theoretical inside diameter of each pipe section is displayed.\n",
    "- In column `DN` the nominal diameter, based on the pipe schedule set, is displayed.\n",
    "- In column `Di` the inside diameter that coresponds with the nominal diameter is displayed.\n",
    "\n",
    "First the theoretical diameter is calculated based on the design flow rate in the pipe section and the friction loss within it. Using this result, the `Designer` looks, based on the pipe schedule set for the network, for the commercial available nominal diameter for which the corresponding inside diameter is closest to the calculated on."
   ]
  },
  {
   "cell_type": "markdown",
   "metadata": {},
   "source": [
    "We can see in the table that three different nominal diameters are proposed. In practice, to make construction easier, the riser will be constructed using piping sections that all have the same nominal diameter, which in this case would be a nominal diameter (DN) of 40 mm."
   ]
  },
  {
   "cell_type": "code",
   "execution_count": null,
   "metadata": {},
   "outputs": [],
   "source": []
  }
 ],
 "metadata": {
  "kernelspec": {
   "display_name": "Python 3",
   "language": "python",
   "name": "python3"
  },
  "language_info": {
   "codemirror_mode": {
    "name": "ipython",
    "version": 3
   },
   "file_extension": ".py",
   "mimetype": "text/x-python",
   "name": "python",
   "nbconvert_exporter": "python",
   "pygments_lexer": "ipython3",
   "version": "3.7.6"
  }
 },
 "nbformat": 4,
 "nbformat_minor": 4
}
